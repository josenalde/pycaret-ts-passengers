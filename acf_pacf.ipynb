{
 "cells": [
  {
   "cell_type": "markdown",
   "id": "bc09a0d2",
   "metadata": {},
   "source": [
    "### ACF: ACF plota a correção de uma série temporal com seus lags (amostras passadas). Pode ser usado para identificar o número de lags necessários para o modelo TS. Por exemplo, se o gráfico ACF mostra correlação forte entre a TS e os lags 1, 2 e 3, incluí-los no modelo provavelmente dará um bom ajuste. Um corte abrupto no gráfico em um lag específico sugere que o modelo com aquele número de lags seria interessante. Já um ACF com queda suave pode indicar tendência\n",
    "### Um lag é estatisticamente significativo se a barra vai além da zona de intervalo de confiança, indicando forte autocorrelação naquele lag.\n",
    "### Uma queda suave, gradual na barra sugere uma tendência de longo prazo nos dados, e dependência de longo prazo.\n",
    "### padrões sazonais são picos regulares em certos lags."
   ]
  },
  {
   "cell_type": "markdown",
   "id": "ac98f105",
   "metadata": {},
   "source": [
    "### A PACF mede a correlação entre duas observações em dois instantes de tempo, ajudando a isolar o relacionamento entre obsevações de diferentes lags, removendo a influência de observações intermediárias.\n",
    "\n",
    "### O gráfico plota a correção de uma série temporal com seus lags (amostras passadas), após levar em consideração os lags mais curtos. pode também ajudar a encontrar os lags significativos e também identificar sazonalidade. Um PACF caindo lentamente pode indicar sazonalidade, enquanto um corte mais abrupto em um lag específico pode indicar padrão sazonal. O lag onde o gráfico corta determina o lag máximo a incluir"
   ]
  },
  {
   "cell_type": "code",
   "execution_count": 3,
   "id": "262bdaf3",
   "metadata": {},
   "outputs": [],
   "source": [
    "import pandas as pd\n",
    "import matplotlib.pyplot as plt"
   ]
  },
  {
   "cell_type": "code",
   "execution_count": 5,
   "id": "c572a649",
   "metadata": {},
   "outputs": [],
   "source": [
    "#estudar\n",
    "#https://www.kaggle.com/code/iamleonie/time-series-interpreting-acf-and-pacf"
   ]
  }
 ],
 "metadata": {
  "kernelspec": {
   "display_name": "tadsenv",
   "language": "python",
   "name": "python3"
  },
  "language_info": {
   "codemirror_mode": {
    "name": "ipython",
    "version": 3
   },
   "file_extension": ".py",
   "mimetype": "text/x-python",
   "name": "python",
   "nbconvert_exporter": "python",
   "pygments_lexer": "ipython3",
   "version": "3.11.2"
  }
 },
 "nbformat": 4,
 "nbformat_minor": 5
}
